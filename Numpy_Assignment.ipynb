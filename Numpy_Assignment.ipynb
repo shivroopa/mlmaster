{
 "cells": [
  {
   "cell_type": "markdown",
   "metadata": {},
   "source": [
    "### Problem Statement:\n",
    "#### Given a sequence of n values x1, x2, ..., xn and a window size k>0, the k-th moving average of the given sequence is defined as follows:<br>\n",
    "The moving average sequence has n-k+1 elements as shown below.<br>\n",
    "The moving averages with k=4 of a ten-value sequence (n=10) is shown below<br>\n",
    "i 1 2 3 4 5 6 7 8 9 10\n",
    "===== ====================\n",
    "Input 10 20 30 40 50 60 70 80 90 100<br>\n",
    "y1 25 = (10+20+30+40)/4<br>\n",
    "y2 35 = (20+30+40+50)/4<br>\n",
    "y3 45 = (30+40+50+60)/4<br>\n",
    "y4 55 = (40+50+60+70)/4<br>\n",
    "y5 65 = (50+60+70+80)/4<br>\n",
    "y6 75 = (60+70+80+90)/4<br>\n",
    "y7 85 = (70+80+90+100)/4<br>\n",
    "Thus, the moving average sequence has n-k+1=10-4+1=7 values.<br>\n",
    "Question: Write a function to find moving average in an array over a window:<br>\n",
    "Test it over [3, 5, 7, 2, 8, 10, 11, 65, 72, 81, 99, 100, 150] and window of 3."
   ]
  },
  {
   "cell_type": "code",
   "execution_count": 28,
   "metadata": {},
   "outputs": [
    {
     "name": "stdout",
     "output_type": "stream",
     "text": [
      "[  5.     4.67   5.67   6.67   9.67  28.67  49.33  72.67  84.    93.33\n",
      " 116.33]\n"
     ]
    }
   ],
   "source": [
    "import numpy as np\n",
    "\n",
    "N = [3, 5, 7, 2, 8, 10, 11, 65, 72, 81, 99, 100, 150]\n",
    "k = 3\n",
    "\n",
    "mean = [np.mean(N[x:x+k]) for x in range(len(N)-k+1)]\n",
    "print(np.round(mean,2))"
   ]
  },
  {
   "cell_type": "code",
   "execution_count": 22,
   "metadata": {},
   "outputs": [],
   "source": []
  },
  {
   "cell_type": "code",
   "execution_count": null,
   "metadata": {},
   "outputs": [],
   "source": []
  }
 ],
 "metadata": {
  "kernelspec": {
   "display_name": "Python 3",
   "language": "python",
   "name": "python3"
  },
  "language_info": {
   "codemirror_mode": {
    "name": "ipython",
    "version": 3
   },
   "file_extension": ".py",
   "mimetype": "text/x-python",
   "name": "python",
   "nbconvert_exporter": "python",
   "pygments_lexer": "ipython3",
   "version": "3.6.10"
  }
 },
 "nbformat": 4,
 "nbformat_minor": 4
}
