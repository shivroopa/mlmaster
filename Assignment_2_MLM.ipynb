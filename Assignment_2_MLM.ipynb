{
 "cells": [
  {
   "cell_type": "markdown",
   "metadata": {},
   "source": [
    "### Task 1"
   ]
  },
  {
   "cell_type": "markdown",
   "metadata": {},
   "source": [
    "#### 1.1 Write a Python Program to implement your own myreduce() function which works exactly like Python's built-in function reduce()"
   ]
  },
  {
   "cell_type": "code",
   "execution_count": 15,
   "metadata": {},
   "outputs": [
    {
     "name": "stdout",
     "output_type": "stream",
     "text": [
      "Enter few numbers:\n",
      "5 6\n",
      "The list provided: \n",
      "[5, 6]\n",
      "The multiplication of the numbers in the list is: 30\n"
     ]
    }
   ],
   "source": [
    "# Taking user input and converting to list\n",
    "print(\"Enter few numbers space separated:\")\n",
    "lst = [int(x) for x in input().split()]\n",
    "print(\"The list provided: \")\n",
    "print(lst)\n",
    "\n",
    "# Defining my myreduce function which produces product of user input numbers\n",
    "def myreduce(func, lst):\n",
    "    #saving first element of list in prod\n",
    "    prod = lst[0]\n",
    "    #this for loop will multiply 2 numbers at a time and save the result back in prod\n",
    "    for i in lst[1:]:\n",
    "        prod = func(prod, i)\n",
    "    return prod\n",
    "\n",
    "# Defining multiplication function to be used in my myreduce function\n",
    "def mul(a, b):\n",
    "    return a * b\n",
    "\n",
    "# Calling myreduce function\n",
    "print(\"The multiplication of the numbers in the list is: \" + str(myreduce(mul, lst)))"
   ]
  },
  {
   "cell_type": "markdown",
   "metadata": {},
   "source": [
    " "
   ]
  },
  {
   "cell_type": "markdown",
   "metadata": {},
   "source": [
    "#### 1.2 Write a Python program to implement your own myfilter() function which works exactly like Python's built-in function filter()"
   ]
  },
  {
   "cell_type": "code",
   "execution_count": 40,
   "metadata": {},
   "outputs": [
    {
     "name": "stdout",
     "output_type": "stream",
     "text": [
      "Enter few letters space separated: \n",
      "a i G T E k F o\n",
      "['a', 'i', 'G', 'T', 'E', 'k', 'F', 'o']\n",
      "The consonants are: ['G', 'T', 'k', 'F']\n"
     ]
    }
   ],
   "source": [
    "print(\"Enter few letters space separated: \")\n",
    "# Taking user input and converting to list\n",
    "lst1 = list(input().split())\n",
    "print(lst1)\n",
    "\n",
    "# Defining my myfilter function which will return consonants from the inputted letters\n",
    "def myfilter(func, lst):\n",
    "    consonants = []\n",
    "    for i in lst:\n",
    "        if func(i):\n",
    "            consonants.append(i)\n",
    "    return consonants\n",
    "\n",
    "# Defining isconsonant function to be used in my myfilter function which checks for consonants\n",
    "def isconsonant(l):\n",
    "    v = ['a', 'e', 'i', 'o', 'u', 'A', 'E', 'I', 'O', 'U']\n",
    "    if l not in v:\n",
    "        return True\n",
    "    else:\n",
    "        return False\n",
    "\n",
    "# Calling myfilter function\n",
    "print(\"The consonants are: \" +str(myfilter(isconsonant, lst1)))"
   ]
  },
  {
   "cell_type": "markdown",
   "metadata": {},
   "source": [
    " "
   ]
  },
  {
   "cell_type": "markdown",
   "metadata": {},
   "source": [
    "#### 2. Implement List comprehensions to produce the following lists. Write List comprehensions to produce the following Lists <br>\n",
    "['A', 'C', 'A', 'D', 'G', 'I', ’L’, ‘ D’]<br>\n",
    "['x', 'xx', 'xxx', 'xxxx', 'y', 'yy', 'yyy', 'yyyy', 'z', 'zz', 'zzz', 'zzzz'] <br>\n",
    "['x', 'y', 'z', 'xx', 'yy', 'zz', 'xx', 'yy', 'zz', 'xxxx', 'yyyy', 'zzzz']<br>\n",
    "[[2], [3], [4], [3], [4], [5], [4], [5], [6]]<br>\n",
    "[[2, 3, 4, 5], [3, 4, 5, 6], [4, 5, 6, 7], [5, 6, 7, 8]]<br>\n",
    "[(1, 1), (2, 1), (3, 1), (1, 2), (2, 2), (3, 2), (1, 3), (2, 3), (3, 3)]"
   ]
  },
  {
   "cell_type": "code",
   "execution_count": 87,
   "metadata": {},
   "outputs": [
    {
     "data": {
      "text/plain": [
       "\"\\nCell for practice \\na = '123'\\nlst = []\\n\\nfor j in range(0,3):\\n    for i in a:\\n        lst.append((int(i), j+1))\\nprint(lst)\\n\""
      ]
     },
     "execution_count": 87,
     "metadata": {},
     "output_type": "execute_result"
    }
   ],
   "source": [
    "'''\n",
    "This cell is for practice \n",
    "a = '123'\n",
    "lst = []\n",
    "\n",
    "for j in range(0,3):\n",
    "    for i in a:\n",
    "        lst.append((int(i), j+1))\n",
    "print(lst)\n",
    "'''"
   ]
  },
  {
   "cell_type": "markdown",
   "metadata": {},
   "source": [
    " "
   ]
  },
  {
   "cell_type": "code",
   "execution_count": 86,
   "metadata": {},
   "outputs": [
    {
     "name": "stdout",
     "output_type": "stream",
     "text": [
      "['A', 'C', 'A', 'D', 'G', 'L', 'I', 'D']\n",
      "['x', 'xx', 'xxx', 'xxxx', 'y', 'yy', 'yyy', 'yyyy', 'z', 'zz', 'zzz', 'zzzz']\n",
      "['x', 'y', 'z', 'xx', 'yy', 'zz', 'xxx', 'yyy', 'zzz', 'xxxx', 'yyyy', 'zzzz']\n",
      "[[2], [3], [4], [3], [4], [5], [4], [5], [6]]\n",
      "[[2, 3, 4, 5], [3, 4, 5, 6], [4, 5, 6, 7], [5, 6, 7, 8]]\n",
      "[(1, 1), (2, 1), (3, 1), (1, 2), (2, 2), (3, 2), (1, 3), (2, 3), (3, 3)]\n"
     ]
    }
   ],
   "source": [
    "# List comprehension to produce list ['A', 'C', 'A', 'D', 'G', 'I', ’L’, ‘ D’]\n",
    "lst = [a for a in 'ACADGLID']\n",
    "print(lst)\n",
    "\n",
    "# List comprehension to produce list ['x', 'xx', 'xxx', 'xxxx', 'y', 'yy', 'yyy', 'yyyy', 'z', 'zz', 'zzz', 'zzzz']\n",
    "lst1 = [element * num for element in 'xyz' for num in range(1,5)]\n",
    "print(lst1)\n",
    "\n",
    "# List comprehension to produce list ['x', 'y', 'z', 'xx', 'yy', 'zz', 'xx', 'yy', 'zz', 'xxxx', 'yyyy', 'zzzz']\n",
    "lst2 = [element * num for num in range(1,5) for element in 'xyz']\n",
    "print(lst2)\n",
    "\n",
    "# List comprehension to produce list [[2], [3], [4], [3], [4], [5], [4], [5], [6]]\n",
    "lst3 = [[int(element) + num] for element in '234' for num in range(0,3)]\n",
    "print(lst3)\n",
    "\n",
    "# List comprehension to produce list [[2, 3, 4, 5], [3, 4, 5, 6], [4, 5, 6, 7], [5, 6, 7, 8]]\n",
    "lst4 = [[int(element) + num for element in '2345'] for num in range(0,4)]\n",
    "print(lst4)\n",
    "\n",
    "# List comprehension to produce list [(1, 1), (2, 1), (3, 1), (1, 2), (2, 2), (3, 2), (1, 3), (2, 3), (3, 3)]\n",
    "lst4 = [(int(element) , num+1) for num in range(0,3) for element in '123']\n",
    "print(lst4)\n"
   ]
  },
  {
   "cell_type": "markdown",
   "metadata": {},
   "source": [
    " "
   ]
  },
  {
   "cell_type": "markdown",
   "metadata": {},
   "source": [
    "#### 3. Implement a function longestWord() that takes a list of words and returns the longest one.\n"
   ]
  },
  {
   "cell_type": "code",
   "execution_count": 11,
   "metadata": {},
   "outputs": [
    {
     "name": "stdout",
     "output_type": "stream",
     "text": [
      "Enter a string: Mary had a little lamb, an elephant and a dog\n",
      "\n",
      "The list of the words is: \n",
      "['Mary', 'had', 'a', 'little', 'lamb,', 'an', 'elephant', 'and', 'a', 'dog']\n",
      "\n",
      "The longest word of the string is: \n",
      "elephant\n"
     ]
    }
   ],
   "source": [
    "# Takes string as a input from user and converts to list of words\n",
    "word_list = input(\"Enter a string: \").split()\n",
    "\n",
    "print(\"\\nThe list of the words is: \")\n",
    "print(word_list)\n",
    "# This function finds out maximum length of words from the list and returns the longest word\n",
    "def longestWord(word_list):\n",
    "    max_len = 0\n",
    "    longest_word = \"\"\n",
    "    for i in word_list:\n",
    "        if len(i) > max_len:\n",
    "            max_len = len(i)\n",
    "            longest_word = i\n",
    "    return longest_word\n",
    "        \n",
    "# Calling the function\n",
    "print(\"\\nThe longest word of the string is: \")\n",
    "print(longestWord(word_list))\n",
    "\n"
   ]
  },
  {
   "cell_type": "markdown",
   "metadata": {},
   "source": [
    " "
   ]
  },
  {
   "cell_type": "markdown",
   "metadata": {},
   "source": [
    "### Task 2:"
   ]
  },
  {
   "cell_type": "markdown",
   "metadata": {},
   "source": [
    "#### 1.1 Write a Python Program(with class concepts) to find the area of the triangle using the below formula. <br> area = (s*(s-a)*(s-b)*(s-c)) *** 0.5 <br> Function to take the length of the sides of triangle from user should be defined in the parent class and function to calculate the area should be defined in subclass."
   ]
  },
  {
   "cell_type": "code",
   "execution_count": 57,
   "metadata": {},
   "outputs": [
    {
     "name": "stdout",
     "output_type": "stream",
     "text": [
      "Area of a triangle with sides 4, 4.5, 5 is: 8.549259836383499\n"
     ]
    }
   ],
   "source": [
    "# Defined sides of a triangle\n",
    "s1 = 4\n",
    "s2 = 4.5\n",
    "s3 = 5\n",
    "\n",
    "# Parent class defines sides of triangle\n",
    "class Parent:\n",
    "    def __init__(self, s1, s2, s3):\n",
    "        self.a = s1\n",
    "        self.b = s2\n",
    "        self.c = s3\n",
    "\n",
    "# Child (subclass) calculates area of a triangle\n",
    "class Child(Parent):\n",
    "    def area(self):\n",
    "        s = (self.a + self.b + self.c) / 2\n",
    "        return ((s * (s - self.a) * (s - self.b) * (s - self.c)) ** 0.5)       \n",
    "\n",
    "# Triangle is an object of Child subclass\n",
    "triangle = Child(s1,s2,s3)\n",
    "print(f\"Area of a triangle with sides {s1}, {s2}, {s3} is: \"+str(triangle.area()))\n",
    "        "
   ]
  },
  {
   "cell_type": "markdown",
   "metadata": {},
   "source": [
    " "
   ]
  },
  {
   "cell_type": "markdown",
   "metadata": {},
   "source": [
    "#### 1.2 Write a function filter_long_words() that takes a list of words and an integer n and returns the list of words that are longer than n.\n"
   ]
  },
  {
   "cell_type": "code",
   "execution_count": 55,
   "metadata": {},
   "outputs": [
    {
     "name": "stdout",
     "output_type": "stream",
     "text": [
      "Enter an integer: \n",
      "5\n",
      "\n",
      "Words longer than 5 letters are: \n",
      "['Machine', 'Learning', 'master', 'course']\n"
     ]
    }
   ],
   "source": [
    "# Use of list comprehension\n",
    "def filter_long_words(words, n):\n",
    "    return [i for i in words if len(i) > n]\n",
    "\n",
    "words = ['This', 'is', 'a', 'Machine', 'Learning', 'master', 'course']\n",
    "print('Enter an integer: ')\n",
    "n = int(input())\n",
    "\n",
    "long_words = filter_long_words(words, n) \n",
    "print(f'\\nWords longer than {n} letters are: \\n' +str(long_words))"
   ]
  },
  {
   "cell_type": "markdown",
   "metadata": {},
   "source": [
    " "
   ]
  },
  {
   "cell_type": "markdown",
   "metadata": {},
   "source": [
    "#### 2.1 Write a Python program using function concept that maps list of words into a list of integers representing the lengths of the corresponding words​.<br> Hint: ​If a list [ ab,cde,erty] is passed on to the python function output should come as [2,3,4] <br>Here 2,3 and 4 are the lengths of the words in the list."
   ]
  },
  {
   "cell_type": "code",
   "execution_count": 53,
   "metadata": {},
   "outputs": [
    {
     "name": "stdout",
     "output_type": "stream",
     "text": [
      "Length of each word in a list is:\n",
      "[5, 2, 1, 5, 3]\n"
     ]
    }
   ],
   "source": [
    "# Use of list comprehension\n",
    "def word_length(l):\n",
    "    return [len(word) for word in l]\n",
    "\n",
    "l = ['Today', 'is', 'a', 'great', 'day']\n",
    "print('Length of each word in a list is:\\n'+str(word_length(l)))"
   ]
  },
  {
   "cell_type": "markdown",
   "metadata": {},
   "source": [
    " "
   ]
  },
  {
   "cell_type": "markdown",
   "metadata": {},
   "source": [
    "#### 2.2 Write a Python function which takes a character (i.e. a string of length 1) and returns True if it is a vowel, False otherwise."
   ]
  },
  {
   "cell_type": "code",
   "execution_count": 46,
   "metadata": {},
   "outputs": [
    {
     "name": "stdout",
     "output_type": "stream",
     "text": [
      "False\n",
      "True\n"
     ]
    }
   ],
   "source": [
    "def is_vowel(letter):\n",
    "    vowel = ['a', 'e', 'i', 'o', 'u', 'A', 'E', 'I', 'O', 'U']\n",
    "    if letter in vowel:\n",
    "        return True\n",
    "    else:\n",
    "        return False\n",
    "\n",
    "print(is_vowel('g'))\n",
    "print(is_vowel('A'))"
   ]
  },
  {
   "cell_type": "code",
   "execution_count": null,
   "metadata": {},
   "outputs": [],
   "source": []
  }
 ],
 "metadata": {
  "kernelspec": {
   "display_name": "Python 3",
   "language": "python",
   "name": "python3"
  },
  "language_info": {
   "codemirror_mode": {
    "name": "ipython",
    "version": 3
   },
   "file_extension": ".py",
   "mimetype": "text/x-python",
   "name": "python",
   "nbconvert_exporter": "python",
   "pygments_lexer": "ipython3",
   "version": "3.6.10"
  }
 },
 "nbformat": 4,
 "nbformat_minor": 4
}
