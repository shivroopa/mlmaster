{
 "cells": [
  {
   "cell_type": "markdown",
   "metadata": {},
   "source": [
    "### Task 1"
   ]
  },
  {
   "cell_type": "markdown",
   "metadata": {},
   "source": [
    "#### 1. Write a function to compute 5/0 and use try/except to catch the exceptions."
   ]
  },
  {
   "cell_type": "code",
   "execution_count": 5,
   "metadata": {},
   "outputs": [
    {
     "name": "stdout",
     "output_type": "stream",
     "text": [
      "Enter a numerator: 5\n",
      "Enter a denominator: 0\n",
      "\n",
      "Error: division by zero\n",
      "\n",
      "Please enter a non zero denominator: \n",
      "2\n",
      "\n",
      "Result of division is: 2.5\n"
     ]
    }
   ],
   "source": [
    "def division(n,d):\n",
    "    try:\n",
    "        ans = n/d\n",
    "    except ZeroDivisionError as e:\n",
    "        print(f\"\\nError: {e}\")\n",
    "        try:\n",
    "            d = int(input(\"\\nPlease enter a non zero denominator: \\n\"))\n",
    "            ans = n/d\n",
    "        except:\n",
    "            print(\"\\nDivision by zero results in Infinity\")\n",
    "    try:\n",
    "        return ans\n",
    "    except:\n",
    "        print(\"You did not enter non zero denominator\")\n",
    "\n",
    "numerator = int(input(\"Enter a numerator: \"))\n",
    "denominator = int(input(\"Enter a denominator: \"))\n",
    "\n",
    "result = division(numerator, denominator)\n",
    "print(f\"\\nResult of division is: {result}\")"
   ]
  },
  {
   "cell_type": "markdown",
   "metadata": {},
   "source": [
    " "
   ]
  },
  {
   "cell_type": "markdown",
   "metadata": {},
   "source": [
    "#### 2.\n",
    "#### Implement a Python program to generate all sentences where subject is in [\"Americans\", \"Indians\"] and verb is in [\"Play\", \"watch\"] and the object is in [\"Baseball\",\"cricket\"].<br>\n",
    "Hint: Subject,Verb and Object should be declared in the program as shown below.<br>\n",
    "subjects=[\"Americans \",\"Indians\"]<br> verbs=[\"play\",\"watch\"]<br> objects=[\"Baseball\",\"Cricket\"]<br><br>\n",
    "Output should come as below:<br><br>\n",
    "Americans play Baseball.<br> Americans play Cricket.<br> Americans watch Baseball.<br> Americans watch Cricket.<br> Indians play Baseball.<br> Indians play Cricket.<br> Indians watch Baseball.<br> Indians watch Cricket.<br>"
   ]
  },
  {
   "cell_type": "code",
   "execution_count": 6,
   "metadata": {},
   "outputs": [
    {
     "name": "stdout",
     "output_type": "stream",
     "text": [
      "Americans play Baseball.\n",
      "Americans play Cricket.\n",
      "Americans watch Baseball.\n",
      "Americans watch Cricket.\n",
      "Indians play Baseball.\n",
      "Indians play Cricket.\n",
      "Indians watch Baseball.\n",
      "Indians watch Cricket.\n"
     ]
    }
   ],
   "source": [
    "subjects=[\"Americans\",\"Indians\"]\n",
    "verbs=[\"play\",\"watch\"]\n",
    "objects=[\"Baseball\",\"Cricket\"]\n",
    "\n",
    "def generate_sentence(s,v,o):\n",
    "    for i in s:\n",
    "        for j in v:\n",
    "            for k in o:\n",
    "                print(f\"{i} {j} {k}.\")\n",
    "\n",
    "generate_sentence(subjects, verbs, objects)\n",
    "        "
   ]
  },
  {
   "cell_type": "markdown",
   "metadata": {},
   "source": [
    " "
   ]
  },
  {
   "cell_type": "markdown",
   "metadata": {},
   "source": [
    "### Task 2:\n",
    "#### 1.\n",
    "#### Write a function so that the columns of the output matrix are powers of the input vector.<br>\n",
    "The order of the powers is determined by the increasing boolean argument. Specifically, when increasing is False, the i-th output column is the input vector raised element-wise to the power of N - i - 1.<br>\n",
    "HINT: Such a matrix with a geometric progression in each row is named for Alexandre- Theophile Vandermonde."
   ]
  },
  {
   "cell_type": "code",
   "execution_count": 1,
   "metadata": {},
   "outputs": [],
   "source": [
    "input_vector = [2,3,4]\n",
    "N = 4 # Number of columns in output matrix\n",
    "\n",
    "def get_Vandermonde_Matrix(v, N, increasing = False):\n",
    "    \n",
    "    # If N is not specified, a square array is returned (N = len(x))\n",
    "    if N is None:\n",
    "        print(f\"As N is None, then N will take value as length of input_vector which is {len(v)}\")\n",
    "        N = len(v)\n",
    "        \n",
    "    matrix = []\n",
    "    # When increasing if false then generate power as\n",
    "    power = [(N - i - 1) for N, i in zip([N]*N,range(N))]\n",
    "    if increasing is False:\n",
    "        print(\"\\nWhen increasing argument is False, the powers are: \"+str(power))\n",
    "    \n",
    "    # When increasing is True, the power increases from left to right\n",
    "    if increasing:\n",
    "        power = power[::-1]\n",
    "        print(\"\\nWhen increasing argument is True, the powers are: \"+str(power))\n",
    "    \n",
    "    print(\"\\nThe Vandermonde matrix is as follows: \")\n",
    "    \n",
    "    #generating output matrix\n",
    "    for element in v:\n",
    "        row = [element ** p for p in power]\n",
    "        # For printing each row\n",
    "        print(row)\n",
    "        matrix.append(row)\n",
    "    return matrix"
   ]
  },
  {
   "cell_type": "code",
   "execution_count": 2,
   "metadata": {},
   "outputs": [
    {
     "name": "stdout",
     "output_type": "stream",
     "text": [
      "\n",
      "When increasing argument is False, the powers are: [3, 2, 1, 0]\n",
      "\n",
      "The Vandermonde matrix is as follows: \n",
      "[8, 4, 2, 1]\n",
      "[27, 9, 3, 1]\n",
      "[64, 16, 4, 1]\n"
     ]
    }
   ],
   "source": [
    "output = get_Vandermonde_Matrix(input_vector, N)"
   ]
  },
  {
   "cell_type": "code",
   "execution_count": 3,
   "metadata": {},
   "outputs": [
    {
     "name": "stdout",
     "output_type": "stream",
     "text": [
      "\n",
      "When increasing argument is True, the powers are: [0, 1, 2, 3]\n",
      "\n",
      "The Vandermonde matrix is as follows: \n",
      "[1, 2, 4, 8]\n",
      "[1, 3, 9, 27]\n",
      "[1, 4, 16, 64]\n"
     ]
    }
   ],
   "source": [
    "output = get_Vandermonde_Matrix(input_vector, N, increasing = True)"
   ]
  },
  {
   "cell_type": "code",
   "execution_count": 4,
   "metadata": {},
   "outputs": [
    {
     "name": "stdout",
     "output_type": "stream",
     "text": [
      "As N is None, then N will take value as length of input_vector which is 3\n",
      "\n",
      "When increasing argument is True, the powers are: [0, 1, 2]\n",
      "\n",
      "The Vandermonde matrix is as follows: \n",
      "[1, 2, 4]\n",
      "[1, 3, 9]\n",
      "[1, 4, 16]\n"
     ]
    }
   ],
   "source": [
    "output = get_Vandermonde_Matrix(input_vector, N = None, increasing = True)"
   ]
  },
  {
   "cell_type": "code",
   "execution_count": null,
   "metadata": {},
   "outputs": [],
   "source": []
  }
 ],
 "metadata": {
  "kernelspec": {
   "display_name": "Python 3",
   "language": "python",
   "name": "python3"
  },
  "language_info": {
   "codemirror_mode": {
    "name": "ipython",
    "version": 3
   },
   "file_extension": ".py",
   "mimetype": "text/x-python",
   "name": "python",
   "nbconvert_exporter": "python",
   "pygments_lexer": "ipython3",
   "version": "3.6.10"
  }
 },
 "nbformat": 4,
 "nbformat_minor": 4
}
